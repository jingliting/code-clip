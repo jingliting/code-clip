{
 "cells": [
  {
   "cell_type": "markdown",
   "metadata": {},
   "source": [
    "计算感受野（featuremap某个点的响应对应输入图像的区域）\n",
    "1. 第一层conv后感受野RF的大小等于filter size\n",
    "2. conv后的RF大小与它之前所有层的filter size与stride有关（pooling的filter size为2）\n",
    "3. RF与输入图片的尺寸以及padding无关\n",
    "4. strides(i) = strides(1) * strides(2) * ... * strides(i-1)   \n",
    "RF要自顶向下计算：    \n",
    "RF = 1    \n",
    "for layer in top to down:    \n",
    "    RF = ((RF-1) * strides) + filter_size   "
   ]
  },
  {
   "cell_type": "code",
   "execution_count": 1,
   "metadata": {
    "scrolled": true
   },
   "outputs": [
    {
     "name": "stdout",
     "output_type": "stream",
     "text": [
      "layer output sizes given image = 224x224\n",
      "************net structrue name is alexnet**************\n",
      "Layer Name = conv1, Output size =  54, Stride =   4, RF size =  11\n",
      "Layer Name = pool1, Output size =  26, Stride =   8, RF size =  19\n",
      "Layer Name = conv2, Output size =  26, Stride =   8, RF size =  51\n",
      "Layer Name = pool2, Output size =  12, Stride =  16, RF size =  67\n",
      "Layer Name = conv3, Output size =  12, Stride =  16, RF size =  99\n",
      "Layer Name = conv4, Output size =  12, Stride =  16, RF size = 131\n",
      "Layer Name = conv5, Output size =  12, Stride =  16, RF size = 163\n",
      "Layer Name = pool5, Output size =   5, Stride =  32, RF size = 195\n",
      "************net structrue name is vgg16**************\n",
      "Layer Name = conv1_1, Output size = 224, Stride =   1, RF size =   3\n",
      "Layer Name = conv1_2, Output size = 224, Stride =   1, RF size =   5\n",
      "Layer Name = pool1, Output size = 112, Stride =   2, RF size =   6\n",
      "Layer Name = conv2_1, Output size = 112, Stride =   2, RF size =  10\n",
      "Layer Name = conv2_2, Output size = 112, Stride =   2, RF size =  14\n",
      "Layer Name = pool2, Output size =  56, Stride =   4, RF size =  16\n",
      "Layer Name = conv3_1, Output size =  56, Stride =   4, RF size =  24\n",
      "Layer Name = conv3_2, Output size =  56, Stride =   4, RF size =  32\n",
      "Layer Name = conv3_3, Output size =  56, Stride =   4, RF size =  40\n",
      "Layer Name = pool3, Output size =  28, Stride =   8, RF size =  44\n",
      "Layer Name = conv4_1, Output size =  28, Stride =   8, RF size =  60\n",
      "Layer Name = conv4_2, Output size =  28, Stride =   8, RF size =  76\n",
      "Layer Name = conv4_3, Output size =  28, Stride =   8, RF size =  92\n",
      "Layer Name = pool4, Output size =  14, Stride =  16, RF size = 100\n",
      "Layer Name = conv5_1, Output size =  14, Stride =  16, RF size = 132\n",
      "Layer Name = conv5_2, Output size =  14, Stride =  16, RF size = 164\n",
      "Layer Name = conv5_3, Output size =  14, Stride =  16, RF size = 196\n",
      "Layer Name = pool5, Output size =   7, Stride =  32, RF size = 212\n",
      "************net structrue name is zf-5**************\n",
      "Layer Name = conv1, Output size = 112, Stride =   2, RF size =   7\n",
      "Layer Name = pool1, Output size =  56, Stride =   4, RF size =  11\n",
      "Layer Name = conv2, Output size =  28, Stride =   8, RF size =  27\n",
      "Layer Name = pool2, Output size =  14, Stride =  16, RF size =  43\n",
      "Layer Name = conv3, Output size =  14, Stride =  16, RF size =  75\n",
      "Layer Name = conv4, Output size =  14, Stride =  16, RF size = 107\n",
      "Layer Name = conv5, Output size =  14, Stride =  16, RF size = 139\n"
     ]
    }
   ],
   "source": [
    "\"\"\"\n",
    "计算感受野（featuremap某个点的响应对应输入图像的区域）\n",
    "1. 第一层conv后感受野RF的大小等于filter size\n",
    "2. conv后的RF大小与它之前所有层的filter size与stride有关（pooling的filter size为2）\n",
    "3. RF与输入图片的尺寸以及padding无关\n",
    "4. strides(i) = strides(1) * strides(2) * ... * strides(i-1)\n",
    "RF要自顶向下计算：\n",
    "for layer in top to down:\n",
    "    RF = ((RF-1) * strides) + filter_size\n",
    "\"\"\"\n",
    "\n",
    "net_struct = {\n",
    "    'alexnet': {'net': [[11, 4, 0], [3, 2, 0], [5, 1, 2], [3, 2, 0], [3, 1, 1], [3, 1, 1], [3, 1, 1], [3, 2, 0]],\n",
    "                'name': ['conv1', 'pool1', 'conv2', 'pool2', 'conv3', 'conv4', 'conv5', 'pool5']},\n",
    "    'vgg16': {'net': [[3, 1, 1], [3, 1, 1], [2, 2, 0], [3, 1, 1], [3, 1, 1], [2, 2, 0], [3, 1, 1], [3, 1, 1], [3, 1, 1],\n",
    "                      [2, 2, 0], [3, 1, 1], [3, 1, 1], [3, 1, 1], [2, 2, 0], [3, 1, 1], [3, 1, 1], [3, 1, 1],\n",
    "                      [2, 2, 0]],\n",
    "              'name': ['conv1_1', 'conv1_2', 'pool1', 'conv2_1', 'conv2_2', 'pool2', 'conv3_1', 'conv3_2',\n",
    "                       'conv3_3', 'pool3', 'conv4_1', 'conv4_2', 'conv4_3', 'pool4', 'conv5_1', 'conv5_2', 'conv5_3',\n",
    "                       'pool5']},\n",
    "    'zf-5': {'net': [[7, 2, 3], [3, 2, 1], [5, 2, 2], [3, 2, 1], [3, 1, 1], [3, 1, 1], [3, 1, 1]],\n",
    "             'name': ['conv1', 'pool1', 'conv2', 'pool2', 'conv3', 'conv4', 'conv5']}}\n",
    "\n",
    "imsize = 224\n",
    "\n",
    "def outFromIn(isz, net, layernum):\n",
    "    totstride = 1\n",
    "    insize = isz\n",
    "    for layer in range(layernum):\n",
    "        fsize, stride, pad = net[layer]\n",
    "        outsize = (insize - fsize + 2 * pad) / stride + 1\n",
    "        insize = outsize\n",
    "        totstride = totstride * stride\n",
    "    return outsize, totstride\n",
    "\n",
    "\n",
    "def inFromOut(net, layernum):\n",
    "    RF = 1\n",
    "    for layer in reversed(range(layernum)):\n",
    "        fsize, stride, pad = net[layer]\n",
    "        RF = ((RF - 1) * stride) + fsize\n",
    "    return RF\n",
    "\n",
    "\n",
    "if __name__ == '__main__':\n",
    "    print(\"layer output sizes given image = %dx%d\" % (imsize, imsize))\n",
    "\n",
    "    for net in net_struct.keys():\n",
    "        print(\"************net structrue name is %s**************\" % net)\n",
    "        for i in range(len(net_struct[net]['net'])):\n",
    "            p = outFromIn(imsize, net_struct[net]['net'], i + 1)\n",
    "            rf = inFromOut(net_struct[net]['net'], i + 1)\n",
    "            print (\"Layer Name = %s, Output size = %3d, Stride = % 3d, RF size = %3d\" % (\n",
    "            net_struct[net]['name'][i], p[0], p[1], rf))"
   ]
  },
  {
   "cell_type": "code",
   "execution_count": null,
   "metadata": {},
   "outputs": [],
   "source": [
    "![VGG16网络]()"
   ]
  }
 ],
 "metadata": {
  "kernelspec": {
   "display_name": "Python 3",
   "language": "python",
   "name": "python3"
  },
  "language_info": {
   "codemirror_mode": {
    "name": "ipython",
    "version": 3
   },
   "file_extension": ".py",
   "mimetype": "text/x-python",
   "name": "python",
   "nbconvert_exporter": "python",
   "pygments_lexer": "ipython3",
   "version": "3.6.4"
  }
 },
 "nbformat": 4,
 "nbformat_minor": 2
}
